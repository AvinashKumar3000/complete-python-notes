{
 "cells": [
  {
   "cell_type": "code",
   "execution_count": 2,
   "id": "a29f281a-9e53-4c3d-8772-7af517a35875",
   "metadata": {},
   "outputs": [
    {
     "name": "stdin",
     "output_type": "stream",
     "text": [
      "The vlaue of a:  5\n"
     ]
    },
    {
     "name": "stdout",
     "output_type": "stream",
     "text": [
      "15.0\n"
     ]
    },
    {
     "name": "stdin",
     "output_type": "stream",
     "text": [
      "The vlaue of a:  10\n"
     ]
    },
    {
     "name": "stdout",
     "output_type": "stream",
     "text": [
      "55.0\n"
     ]
    }
   ],
   "source": [
    "def fn(n):\n",
    "    result = (n*(n+1))/2\n",
    "    return result\n",
    "\n",
    "\n",
    "n = int(input(\"The vlaue of a: \"))\n",
    "res1 = fn(n)\n",
    "print(res1)\n",
    "\n",
    "n = int(input(\"The vlaue of a: \"))\n",
    "res2 = fn(n)\n",
    "print(res2)"
   ]
  },
  {
   "cell_type": "code",
   "execution_count": null,
   "id": "bdc01f53-9b21-49cd-89da-84d14dc87cd3",
   "metadata": {},
   "outputs": [],
   "source": []
  }
 ],
 "metadata": {
  "kernelspec": {
   "display_name": "Python 3 (ipykernel)",
   "language": "python",
   "name": "python3"
  },
  "language_info": {
   "codemirror_mode": {
    "name": "ipython",
    "version": 3
   },
   "file_extension": ".py",
   "mimetype": "text/x-python",
   "name": "python",
   "nbconvert_exporter": "python",
   "pygments_lexer": "ipython3",
   "version": "3.12.4"
  }
 },
 "nbformat": 4,
 "nbformat_minor": 5
}
