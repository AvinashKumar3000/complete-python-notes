{
 "cells": [
  {
   "cell_type": "code",
   "execution_count": 3,
   "id": "a29f281a-9e53-4c3d-8772-7af517a35875",
   "metadata": {},
   "outputs": [
    {
     "name": "stdin",
     "output_type": "stream",
     "text": [
      "The vlaue of a:  5\n"
     ]
    },
    {
     "name": "stdout",
     "output_type": "stream",
     "text": [
      "15.0\n"
     ]
    },
    {
     "name": "stdin",
     "output_type": "stream",
     "text": [
      "The vlaue of a:  10\n"
     ]
    },
    {
     "name": "stdout",
     "output_type": "stream",
     "text": [
      "55.0\n"
     ]
    }
   ],
   "source": [
    "def fn(n):\n",
    "    result = (n*(n+1))/2\n",
    "    return result\n",
    "\n",
    "\n",
    "n = int(input(\"The vlaue of a: \"))\n",
    "res1 = fn(n)\n",
    "print(res1)\n",
    "\n",
    "n = int(input(\"The vlaue of a: \"))\n",
    "res2 = fn(n)\n",
    "print(res2)"
   ]
  },
  {
   "cell_type": "code",
   "execution_count": 5,
   "id": "bdc01f53-9b21-49cd-89da-84d14dc87cd3",
   "metadata": {},
   "outputs": [
    {
     "name": "stdout",
     "output_type": "stream",
     "text": [
      "outside before 10 and 20\n",
      "inside fn 100 and 200\n",
      "outside after 10 and 20\n"
     ]
    }
   ],
   "source": [
    "# call by value & reference\n",
    "# when you pass a variable with \n",
    "#       (int, float, bool, complex, string, tuple)\n",
    "# it will pass as call by value\n",
    "# for mutable types like ( list, dict, set )\n",
    "#   it will pass as call by ref\n",
    "\n",
    "# call by value eg.\n",
    "def fn(a,b):\n",
    "    a = 100\n",
    "    b = 200\n",
    "    print(f\"inside fn {a} and {b}\")\n",
    "\n",
    "x,y = 10,20\n",
    "print(f\"outside before {x} and {y}\")\n",
    "fn(x,y)\n",
    "print(f\"outside after {x} and {y}\")\n",
    "\n",
    "\n"
   ]
  },
  {
   "cell_type": "code",
   "execution_count": 6,
   "id": "5d362ac9-0143-4737-9865-b32fdeeaca57",
   "metadata": {},
   "outputs": [
    {
     "name": "stdout",
     "output_type": "stream",
     "text": [
      "[1200, 20, 30]\n",
      "[1200, 20, 30]\n"
     ]
    }
   ],
   "source": [
    "\n",
    "# call by ref eg\n",
    "def fn(li):\n",
    "    li[0] = 1200\n",
    "    print(li)\n",
    "\n",
    "item = [10,20,30]\n",
    "fn(item)\n",
    "print(item)"
   ]
  },
  {
   "cell_type": "code",
   "execution_count": 14,
   "id": "35d2b934-c47d-4f7c-b226-73fd8d0f5441",
   "metadata": {},
   "outputs": [
    {
     "name": "stdout",
     "output_type": "stream",
     "text": [
      "0\n",
      "None\n"
     ]
    }
   ],
   "source": [
    "# return \n",
    "# if func, not return anything, default it returns None.\n",
    "\n",
    "def fn(x): print(x%2)\n",
    "r = fn(10)\n",
    "print(r)"
   ]
  },
  {
   "cell_type": "code",
   "execution_count": 20,
   "id": "558569f0-5a70-4899-ac23-728d5ede462a",
   "metadata": {},
   "outputs": [
    {
     "name": "stdout",
     "output_type": "stream",
     "text": [
      "10 20\n",
      "10 20\n",
      "30 20\n"
     ]
    }
   ],
   "source": [
    "# types of arguments\n",
    "def fn(x,y):  # func definition\n",
    "    print(x,y)\n",
    "\n",
    "# fn() # ERROR\n",
    "# [😄] positional argument\n",
    "# fn(10) # ERROR  y value send panala\n",
    "fn(10,20)    # valid:   10 20\n",
    "# [😄] keyword argument\n",
    "fn(10,y=20)   # valid:   10 20\n",
    "fn(y=20,x=30) # valid:   30 20  \n",
    "# fn(10,x=20,y=30) # invalid assign multi value to param x\n",
    "# fn(y=10,20)      #  invalid"
   ]
  },
  {
   "cell_type": "code",
   "execution_count": 23,
   "id": "d855890c-27f2-4e5d-9e37-4a8f856c6474",
   "metadata": {},
   "outputs": [
    {
     "name": "stdout",
     "output_type": "stream",
     "text": [
      "10 20\n",
      "10 30\n"
     ]
    }
   ],
   "source": [
    "# types of parameters\n",
    "# a -> normal parameter or non-default-parameter ( positional arg )\n",
    "# b -> default parameter \n",
    "def fn(a,b = 20): print(a,b)\n",
    "# def fn(a = 10,b): print(a,b)   # invalid\n",
    "\n",
    "fn(10)\n",
    "fn(10,30)"
   ]
  },
  {
   "cell_type": "code",
   "execution_count": 27,
   "id": "12758340-2b9a-46c0-96cc-7afaf0efb5d0",
   "metadata": {},
   "outputs": [
    {
     "name": "stdout",
     "output_type": "stream",
     "text": [
      "3 30 40 50\n",
      "30 30 40 50\n",
      "2 30 40 123123\n"
     ]
    }
   ],
   "source": [
    "def fn(a,b=30,c=40,d=50): print(a,b,c,d)\n",
    "# fn() # ERROR\n",
    "fn(3)\n",
    "fn(a=30)\n",
    "# fn(b=123123) # ERROR\n",
    "fn(d=123123,a=2)"
   ]
  },
  {
   "cell_type": "code",
   "execution_count": 34,
   "id": "f7fc561a-aab5-44a4-8c71-0f6006d4e845",
   "metadata": {},
   "outputs": [
    {
     "name": "stdout",
     "output_type": "stream",
     "text": [
      "() {}\n",
      "(10,) {}\n",
      "(1, 2) {}\n",
      "(1, 2, 3, 4, 4) {}\n",
      "(10, 20, 30) {'a': 10, 'b': 20, 'c': 30}\n"
     ]
    }
   ],
   "source": [
    "# > arbitrary argument\n",
    "#     1. variable argument           stores as tuple\n",
    "#     2. variable keyword argument   stores as dict\n",
    "#  (*a)  when you want to accept n no of positional argument\n",
    "#  (**b) when you want to accept n no of keyword argument\n",
    "#  In a func def, only one var-arg and keyword-arg should be there. \n",
    "#  Always var-arg then keyword-arg.\n",
    "\n",
    "def fn(*a, **b):\n",
    "    print(a,b)\n",
    "fn()\n",
    "fn(10)\n",
    "fn(1,2)\n",
    "fn(1,2,3,4,4)\n",
    "fn(10,20,30,a=10,b=20,c=30)"
   ]
  },
  {
   "cell_type": "code",
   "execution_count": 48,
   "id": "2da31f09-51ba-4113-8a28-0dc94c6afc39",
   "metadata": {},
   "outputs": [
    {
     "name": "stdout",
     "output_type": "stream",
     "text": [
      "1 2 () {}\n",
      "1 2 (3,) {}\n",
      "1 2 (3, 4) {}\n",
      "1 2 (3, 4) {'c': 10, 'd': 20}\n"
     ]
    }
   ],
   "source": [
    "def fn(a,b,*c,**d): print(a,b,c,d)\n",
    "# fn() # error a no value\n",
    "# fn(1) # error b no value\n",
    "fn(1,2) # 1 2 () {}\n",
    "fn(1,2,3)\n",
    "fn(1,2,3,4)\n",
    "# fn(1,2,3,4,a=10) # ERROR\n",
    "fn(1,2,3,4,c=10,d=20) # 1 2 (3,4) {'c':10,'d':20}"
   ]
  },
  {
   "cell_type": "code",
   "execution_count": 53,
   "id": "5a2f48a2-dc36-47e9-8be8-8a0c82a55f27",
   "metadata": {},
   "outputs": [],
   "source": [
    "# packing and unpacking in func\n",
    "\n",
    "# unpacking \n",
    "#  mult variables = sequence type ( left and right value count should match) \n",
    "a,b,c = \"hai\"\n",
    "# a,b,c,d = \"hai\" # ERROR\n",
    "x,y = 10,20\n",
    "a,b,c = [10,20,30]\n",
    "a,b,c = {10,20,30}"
   ]
  },
  {
   "cell_type": "code",
   "execution_count": 58,
   "id": "fd0da327-0a0e-4e47-9139-68abb276707c",
   "metadata": {},
   "outputs": [
    {
     "name": "stdout",
     "output_type": "stream",
     "text": [
      "[[10, 20, 30], [40, 50]]\n"
     ]
    }
   ],
   "source": [
    "# packing\n",
    "# using * we can do unpacking\n",
    "bag1 = [10,20,30]\n",
    "bag2 = [40,50]\n",
    "new_bag = [*bag1, *bag2] # unpack\n",
    "print(new_bag)"
   ]
  },
  {
   "cell_type": "code",
   "execution_count": 65,
   "id": "1e4fb4d3-d5d2-4df6-98fc-c9a76963fe67",
   "metadata": {},
   "outputs": [
    {
     "name": "stdout",
     "output_type": "stream",
     "text": [
      "10 20 30 40 (50,) {}\n",
      "10 20 30 40 (50,) {}\n",
      "10 20 30 40 (50,) {'sep': '-', 'end': '\\n'}\n"
     ]
    }
   ],
   "source": [
    "def fn(a,b,c=3,d=4,*e,**f):\n",
    "    print(a,b,c,d,e,f)\n",
    "# packing\n",
    "fn( *[10,20,30,40,50] ) \n",
    "# fn(10,20,30,40,50)\n",
    "fn(*[10,20], *[30,40,50])\n",
    "# fn(10,20,30,40,50)\n",
    "fn(*[10,20], *[30,40,50], **{'sep':'-','end':'\\n'})\n",
    "# fn(10,20,30,40,50,sep='-',end='\\n')"
   ]
  },
  {
   "cell_type": "code",
   "execution_count": 66,
   "id": "2f9e920e-d4aa-4f24-9a77-d59479ffa461",
   "metadata": {},
   "outputs": [],
   "source": [
    "# unpacking in func\n",
    "def fn():\n",
    "    return 10,20,30,40\n",
    "\n",
    "a,b,c,d = fn()"
   ]
  },
  {
   "cell_type": "code",
   "execution_count": null,
   "id": "074ced43-2fb4-4861-a3b0-df4096360f78",
   "metadata": {},
   "outputs": [],
   "source": []
  }
 ],
 "metadata": {
  "kernelspec": {
   "display_name": "Python 3 (ipykernel)",
   "language": "python",
   "name": "python3"
  },
  "language_info": {
   "codemirror_mode": {
    "name": "ipython",
    "version": 3
   },
   "file_extension": ".py",
   "mimetype": "text/x-python",
   "name": "python",
   "nbconvert_exporter": "python",
   "pygments_lexer": "ipython3",
   "version": "3.12.4"
  }
 },
 "nbformat": 4,
 "nbformat_minor": 5
}
